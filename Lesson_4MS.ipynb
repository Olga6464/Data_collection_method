{
 "cells": [
  {
   "cell_type": "markdown",
   "metadata": {},
   "source": [
    "Урок 4. Непрерывные случайные величины. Функция распределения и плотность распределения вероятностей. Равномерное и нормальное распределение. Центральная предельная теорема\n",
    "\n",
    "ДЗ_4\n",
    "Задача 3\n",
    "\n",
    "Продемонстрируйте действие центральной предельной теоремы на каком-нибудь распределении на ваш выбор (кроме нормального). Что для этого нужно сделать:\n",
    "1. Выберите несколько значений n (например, 2, 5, 10, 50).\n",
    "2. Для выбранного значения n сгенерируйте 1000 раз выборку размера n из выбранного вами распределения, посчитайте по этой выборке выборочное среднее.\n",
    "3. Изобразите гистограмму из полученных 1000 значений выборочного среднего с аргументом density=True.\n",
    "4. Поверх гистограммы нарисуйте функцию плотности нормального распределения с параметрами из ЦПТ (т.е. mu = M, sigma^2 = D / n, где M - мат. ожидание выбранного вами распределения, D - его дисперсия).\n",
    "\n",
    "При достаточно большом n гистограмма должна соответствовать построенной функции плотности.\n",
    "Проверим утверждение центральной предельной теоремы на равномерном распределении  𝑋  с параметрами  𝑎=−2 ,  𝑏=10 .\n",
    "Используем функцию pdf_normal"
   ]
  },
  {
   "cell_type": "code",
   "execution_count": 25,
   "metadata": {},
   "outputs": [],
   "source": [
    "import pandas as pd\n",
    "import numpy as np\n",
    "from matplotlib import pyplot as plt\n",
    "from scipy import stats"
   ]
  },
  {
   "cell_type": "code",
   "execution_count": 26,
   "metadata": {},
   "outputs": [],
   "source": [
    "a = -2\n",
    "b = 10\n",
    "\n",
    "m = (a + b) / 2\n",
    "d = ((b - a) ** 2) / 12\n",
    "\n",
    "n_samples = 1000"
   ]
  },
  {
   "cell_type": "code",
   "execution_count": 27,
   "metadata": {},
   "outputs": [],
   "source": [
    "def get_mean_samples_uniform(n):\n",
    "    samples = np.random.uniform(a, b, size=(n, n_samples))\n",
    "    \n",
    "    return samples.mean(axis=0)"
   ]
  },
  {
   "cell_type": "code",
   "execution_count": 31,
   "metadata": {},
   "outputs": [
    {
     "data": {
      "text/plain": [
       "[<matplotlib.lines.Line2D at 0x1ef16653d30>]"
      ]
     },
     "execution_count": 31,
     "metadata": {},
     "output_type": "execute_result"
    },
    {
     "data": {
      "image/png": "[encoded data removed]",
      "text/plain": [
       "<Figure size 432x288 with 1 Axes>"
      ]
     },
     "metadata": {
      "needs_background": "light"
     },
     "output_type": "display_data"
    }
   ],
   "source": [
    "def pdf_normal(loc, scale, x):\n",
    "    return np.exp(- ((x - loc) ** 2) / (2 * scale ** 2)) / (scale * np.sqrt(2 * np.pi))\n",
    "\n",
    "n = 50\n",
    "\n",
    "loc = m\n",
    "scale = np.sqrt(d / n)\n",
    "samples = get_mean_samples_uniform(n)\n",
    "\n",
    "ox = np.linspace(loc - 4 * scale, loc + 4 * scale, 1000)\n",
    "oy = np.array([pdf_normal(loc, scale, x) for x in ox])\n",
    "\n",
    "plt.hist(samples, density=True, bins=10)\n",
    "plt.plot(ox, oy)"
   ]
  },
  {
   "cell_type": "markdown",
   "metadata": {},
   "source": [
    " Задача 1\n",
    "\n",
    "Коробки с шоколадом упаковываются автоматически. Их средняя масса равна 1.06 кг. Известно, что 5% коробок имеют массу, меньшую 1 кг. Найдите: а) среднее квадратическое отклонение массы коробки, б) процент коробок, имеющих массу больше 1.1 кг.\n",
    "\n",
    "Подсказка. 1. Можно считать, что распределение массы коробки нормальное. 2. Найдите такое значение scale, для которого значение cdf(x=1, loc=1.06, scale=scale) близко к 0.05. Точности 0.0001 будет достаточно."
   ]
  },
  {
   "cell_type": "markdown",
   "metadata": {},
   "source": [
    "Пусть X - нормально распределенная случайная величина, равная массе\n",
    "коробки с конфетами, параметры mu =1,06 (математическое ожидание), s (среднее\n",
    "квадратичное отклонение)"
   ]
  },
  {
   "cell_type": "code",
   "execution_count": 32,
   "metadata": {},
   "outputs": [
    {
     "name": "stdout",
     "output_type": "stream",
     "text": [
      "Cdf\tScale\n",
      "0.4522 \t 0.5\n",
      "0.4052 \t 0.25\n",
      "0.3156 \t 0.125\n",
      "0.1685 \t 0.0625\n",
      "0.0274 \t 0.0312\n",
      "0.1003 \t 0.0469\n",
      "0.0623 \t 0.0391\n",
      "0.0439 \t 0.0352\n",
      "0.053 \t 0.0371\n",
      "0.0484 \t 0.0361\n",
      "0.0507 \t 0.0366\n",
      "0.0495 \t 0.0364\n",
      "0.0501 \t 0.0365\n",
      "0.0498 \t 0.0364\n",
      "0.05 \t 0.0365\n",
      "Среднее квадратичное отклонение =  0.036468505859375\n"
     ]
    }
   ],
   "source": [
    "mu = 1.06\n",
    "st = 0\n",
    "end = 1\n",
    "p = 0.05\n",
    "er = 0.0001\n",
    "\n",
    "print('Cdf\\tScale')\n",
    "\n",
    "while True:\n",
    "    scale = (st + end) / 2\n",
    "    cdf = stats.norm.cdf(1, loc = mu, scale = scale)\n",
    "    print(round(cdf, 4), '\\t', round(scale, 4))\n",
    "    if cdf <= p - er:\n",
    "        st = scale\n",
    "    elif cdf >= p + er:\n",
    "        end = scale\n",
    "    else:\n",
    "        break\n",
    "print('Среднее квадратичное отклонение = ', scale)"
   ]
  },
  {
   "cell_type": "code",
   "execution_count": 33,
   "metadata": {},
   "outputs": [
    {
     "data": {
      "text/plain": [
       "0.049958594078015874"
      ]
     },
     "execution_count": 33,
     "metadata": {},
     "output_type": "execute_result"
    }
   ],
   "source": [
    "stats.norm.cdf(1, loc = mu, scale = scale)"
   ]
  },
  {
   "cell_type": "code",
   "execution_count": 35,
   "metadata": {},
   "outputs": [
    {
     "data": {
      "text/plain": [
       "0.1363563656878326"
      ]
     },
     "execution_count": 35,
     "metadata": {},
     "output_type": "execute_result"
    }
   ],
   "source": [
    "1 - stats.norm.cdf(1.1, loc = mu, scale = scale)"
   ]
  },
  {
   "cell_type": "markdown",
   "metadata": {},
   "source": [
    "Задача 2\n",
    "\n",
    "Коробка содержит 30 конфет. Известно, что масса каждой конфеты распределена равномерно в промежутке от 12 до 14 граммов. Используя центральную предельную теорему, найти вероятность, что масса всей коробки будет: а) меньше 390 граммов, б) больше 395 граммов, в) от 380 до 400 граммов.\n",
    "\n",
    "Массой самой коробки можно пренебречь.\n",
    "\n",
    "Подсказка. Для равномерного распределения в промежутке [a, b]:\n",
    "1. мат. ожидание равно (a + b) / 2,\n",
    "2. дисперсия равна (b - a)^2 / 12."
   ]
  },
  {
   "cell_type": "code",
   "execution_count": 41,
   "metadata": {},
   "outputs": [
    {
     "name": "stdout",
     "output_type": "stream",
     "text": [
      "3.1622776601683795\n"
     ]
    }
   ],
   "source": [
    "a = 12\n",
    "b = 14\n",
    "n = 30\n",
    "\n",
    "m = (a + b) / 2\n",
    "d = (b - a)**2 / 12\n",
    "\n",
    "mu = n * m\n",
    "sigma = np.sqrt(n * d)\n",
    "print(sigma)"
   ]
  },
  {
   "cell_type": "markdown",
   "metadata": {},
   "source": [
    "Определим вероятность того, что масса все коробки будет меньше 390 гр."
   ]
  },
  {
   "cell_type": "code",
   "execution_count": 44,
   "metadata": {},
   "outputs": [
    {
     "data": {
      "text/plain": [
       "0.5"
      ]
     },
     "execution_count": 44,
     "metadata": {},
     "output_type": "execute_result"
    }
   ],
   "source": [
    "stats.norm.cdf(390, loc = mu, scale = sigma)\n"
   ]
  },
  {
   "cell_type": "markdown",
   "metadata": {},
   "source": [
    "Определим вероятность того, что масса все коробки будет больше 390 гр."
   ]
  },
  {
   "cell_type": "code",
   "execution_count": 45,
   "metadata": {},
   "outputs": [
    {
     "data": {
      "text/plain": [
       "0.5"
      ]
     },
     "execution_count": 45,
     "metadata": {},
     "output_type": "execute_result"
    }
   ],
   "source": [
    "1 - stats.norm.cdf(395, loc = mu, scale = sigma)"
   ]
  },
  {
   "cell_type": "markdown",
   "metadata": {},
   "source": [
    "Определим вероятность того, что масса все коробки будет больше от 380 гр. до 400 гр."
   ]
  },
  {
   "cell_type": "code",
   "execution_count": 46,
   "metadata": {},
   "outputs": [
    {
     "data": {
      "text/plain": [
       "0.9984345977419975"
      ]
     },
     "execution_count": 46,
     "metadata": {},
     "output_type": "execute_result"
    }
   ],
   "source": [
    "stats.norm.cdf(400, loc = mu, scale = sigma) - stats.norm.cdf(380, loc = mu, scale = sigma)"
   ]
  },
  {
   "cell_type": "code",
   "execution_count": null,
   "metadata": {},
   "outputs": [],
   "source": []
  }
 ],
 "metadata": {
  "kernelspec": {
   "display_name": "Python 3",
   "language": "python",
   "name": "python3"
  },
  "language_info": {
   "codemirror_mode": {
    "name": "ipython",
    "version": 3
   },
   "file_extension": ".py",
   "mimetype": "text/x-python",
   "name": "python",
   "nbconvert_exporter": "python",
   "pygments_lexer": "ipython3",
   "version": "3.8.3"
  }
 },
 "nbformat": 4,
 "nbformat_minor": 4
}
